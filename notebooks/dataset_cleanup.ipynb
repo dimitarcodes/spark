{
 "cells": [
  {
   "cell_type": "markdown",
   "id": "9264ee10",
   "metadata": {},
   "source": [
    "# Order data cleanup (datacamp project)"
   ]
  },
  {
   "cell_type": "markdown",
   "id": "954c11f8-0b2d-4883-95d7-4b5ff4aee339",
   "metadata": {
    "collapsed": false,
    "jupyter": {
     "outputs_hidden": false,
     "source_hidden": false
    }
   },
   "source": [
    "As a Data Engineer at an electronics e-commerce company, Voltmart, you have been requested by a peer Machine Learning team to clean the data containing the information about orders made last year. They are planning to further use this cleaned data to build a demand forecasting model. To achieve this, they have shared their requirements regarding the desired output table format.\n",
    "\n",
    "An analyst shared a parquet file called `\"orders_data.parquet\"` for you to clean and preprocess. \n",
    "\n",
    "You can see the dataset schema below along with the **cleaning requirements**:"
   ]
  },
  {
   "cell_type": "markdown",
   "id": "086e2bd3-ff58-423b-98e0-a7e4c979d7f3",
   "metadata": {},
   "source": [
    "## `orders_data.parquet`\n",
    "\n",
    "| column | data type | description | cleaning requirements | \n",
    "|--------|-----------|-------------|-----------------------|\n",
    "| `order_date` | `timestamp` | Date and time when the order was made | _Modify: Remove orders placed between 12am and 5am (inclusive); convert from timestamp to date_ |\n",
    "| `time_of_day` | `string` | Period of the day when the order was made | _New column containing (lower bound inclusive, upper bound exclusive): \"morning\" for orders placed 5-12am, \"afternoon\" for orders placed 12-6pm, and \"evening\" for 6-12pm_ |\n",
    "| `order_id` | `long` | Order ID | _N/A_ |\n",
    "| `product` | `string` | Name of a product ordered | _Remove rows containing \"TV\" as the company has stopped selling this product; ensure all values are lowercase_ |\n",
    "| `product_ean` | `double` | Product ID | _N/A_ |\n",
    "| `category` | `string` | Broader category of a product | _Ensure all values are lowercase_ |\n",
    "| `purchase_address` | `string` | Address line where the order was made (\"House Street, City, State Zipcode\") | _N/A_ |\n",
    "| `purchase_state` | `string` | US State of the purchase address | _New column containing: the State that the purchase was ordered from_ |\n",
    "| `quantity_ordered` | `long` | Number of product units ordered | _N/A_ |\n",
    "| `price_each` | `double` | Price of a product unit | _N/A_ |\n",
    "| `cost_price` | `double` | Cost of production per product unit | _N/A_ |\n",
    "| `turnover` | `double` | Total amount paid for a product (quantity x price) | _N/A_ |\n",
    "| `margin` | `double` | Profit made by selling a product (turnover - cost) | _N/A_ |\n",
    "\n",
    "<br>"
   ]
  },
  {
   "cell_type": "code",
   "execution_count": 1,
   "id": "62b55d87-f8fd-4e8a-9ef6-6fe91f4de5f3",
   "metadata": {
    "executionCancelledAt": null,
    "executionTime": 4649,
    "lastExecutedAt": 1741802177779,
    "lastExecutedByKernel": "89dac5a4-b510-49e5-a174-9dba1ef02c72",
    "lastScheduledRunId": null,
    "lastSuccessfullyExecutedCode": "from pyspark.sql import (\n    SparkSession,\n    types,\n    functions as F,\n)\n\nspark = (\n    SparkSession\n    .builder\n    .appName('cleaning_orders_dataset_with_pyspark')\n    .getOrCreate()\n)",
    "outputsMetadata": {
     "0": {
      "height": 101,
      "type": "stream"
     },
     "1": {
      "height": 59,
      "type": "stream"
     }
    }
   },
   "outputs": [
    {
     "name": "stderr",
     "output_type": "stream",
     "text": [
      "25/03/18 00:55:51 WARN Utils: Your hostname, dmtr-t14 resolves to a loopback address: 127.0.1.1; using 192.168.178.10 instead (on interface wlp3s0)\n",
      "25/03/18 00:55:51 WARN Utils: Set SPARK_LOCAL_IP if you need to bind to another address\n",
      "Setting default log level to \"WARN\".\n",
      "To adjust logging level use sc.setLogLevel(newLevel). For SparkR, use setLogLevel(newLevel).\n",
      "25/03/18 00:55:51 WARN NativeCodeLoader: Unable to load native-hadoop library for your platform... using builtin-java classes where applicable\n",
      "25/03/18 00:55:52 WARN Utils: Service 'SparkUI' could not bind on port 4040. Attempting port 4041.\n"
     ]
    }
   ],
   "source": [
    "from pyspark.sql import (\n",
    "    SparkSession,\n",
    "    types,\n",
    "    functions as F,\n",
    ")\n",
    "\n",
    "spark = (\n",
    "    SparkSession\n",
    "    .builder\n",
    "    .appName('cleaning_orders_dataset_with_pyspark')\n",
    "    .getOrCreate()\n",
    ")"
   ]
  },
  {
   "cell_type": "code",
   "execution_count": 32,
   "id": "fa903d28-82b2-4c39-90b1-3d9a9421fb6d",
   "metadata": {
    "chartConfig": {
     "bar": {
      "hasRoundedCorners": true,
      "stacked": false
     },
     "type": "bar",
     "version": "v1"
    },
    "executionCancelledAt": null,
    "executionTime": 2290,
    "lastExecutedAt": 1741802180071,
    "lastExecutedByKernel": "89dac5a4-b510-49e5-a174-9dba1ef02c72",
    "lastScheduledRunId": null,
    "lastSuccessfullyExecutedCode": "orders_data = spark.read.parquet('orders_data.parquet')",
    "outputsMetadata": {
     "0": {
      "height": 38,
      "type": "stream"
     },
     "1": {
      "height": 50,
      "tableState": {
       "customFilter": {
        "const": {
         "type": "boolean",
         "valid": true,
         "value": true
        },
        "id": "c0849468-eba3-4f2f-8174-c7ffb9e4d1f0",
        "nodeType": "const"
       },
       "quickFilterText": ""
      },
      "type": "dataFrame"
     }
    },
    "visualizeDataframe": false
   },
   "outputs": [
    {
     "data": {
      "text/html": [
       "<div>\n",
       "<style scoped>\n",
       "    .dataframe tbody tr th:only-of-type {\n",
       "        vertical-align: middle;\n",
       "    }\n",
       "\n",
       "    .dataframe tbody tr th {\n",
       "        vertical-align: top;\n",
       "    }\n",
       "\n",
       "    .dataframe thead th {\n",
       "        text-align: right;\n",
       "    }\n",
       "</style>\n",
       "<table border=\"1\" class=\"dataframe\">\n",
       "  <thead>\n",
       "    <tr style=\"text-align: right;\">\n",
       "      <th></th>\n",
       "      <th>order_date</th>\n",
       "      <th>order_id</th>\n",
       "      <th>product</th>\n",
       "      <th>product_id</th>\n",
       "      <th>category</th>\n",
       "      <th>purchase_address</th>\n",
       "      <th>quantity_ordered</th>\n",
       "      <th>price_each</th>\n",
       "      <th>cost_price</th>\n",
       "      <th>turnover</th>\n",
       "      <th>margin</th>\n",
       "    </tr>\n",
       "  </thead>\n",
       "  <tbody>\n",
       "    <tr>\n",
       "      <th>0</th>\n",
       "      <td>2023-01-22 21:25:00</td>\n",
       "      <td>141234</td>\n",
       "      <td>iPhone</td>\n",
       "      <td>5.638009e+12</td>\n",
       "      <td>Vêtements</td>\n",
       "      <td>944 Walnut St, Boston, MA 02215</td>\n",
       "      <td>1</td>\n",
       "      <td>700.00</td>\n",
       "      <td>231.0000</td>\n",
       "      <td>700.00</td>\n",
       "      <td>469.0000</td>\n",
       "    </tr>\n",
       "    <tr>\n",
       "      <th>1</th>\n",
       "      <td>2023-01-28 14:15:00</td>\n",
       "      <td>141235</td>\n",
       "      <td>Lightning Charging Cable</td>\n",
       "      <td>5.563320e+12</td>\n",
       "      <td>Alimentation</td>\n",
       "      <td>185 Maple St, Portland, OR 97035</td>\n",
       "      <td>1</td>\n",
       "      <td>14.95</td>\n",
       "      <td>7.4750</td>\n",
       "      <td>14.95</td>\n",
       "      <td>7.4750</td>\n",
       "    </tr>\n",
       "    <tr>\n",
       "      <th>2</th>\n",
       "      <td>2023-01-17 13:33:00</td>\n",
       "      <td>141236</td>\n",
       "      <td>Wired Headphones</td>\n",
       "      <td>2.113973e+12</td>\n",
       "      <td>Vêtements</td>\n",
       "      <td>538 Adams St, San Francisco, CA 94016</td>\n",
       "      <td>2</td>\n",
       "      <td>11.99</td>\n",
       "      <td>5.9950</td>\n",
       "      <td>23.98</td>\n",
       "      <td>11.9900</td>\n",
       "    </tr>\n",
       "    <tr>\n",
       "      <th>3</th>\n",
       "      <td>2023-01-05 20:33:00</td>\n",
       "      <td>141237</td>\n",
       "      <td>27in FHD Monitor</td>\n",
       "      <td>3.069157e+12</td>\n",
       "      <td>Sports</td>\n",
       "      <td>738 10th St, Los Angeles, CA 90001</td>\n",
       "      <td>1</td>\n",
       "      <td>149.99</td>\n",
       "      <td>97.4935</td>\n",
       "      <td>149.99</td>\n",
       "      <td>52.4965</td>\n",
       "    </tr>\n",
       "    <tr>\n",
       "      <th>4</th>\n",
       "      <td>2023-01-25 11:59:00</td>\n",
       "      <td>141238</td>\n",
       "      <td>Wired Headphones</td>\n",
       "      <td>9.692681e+12</td>\n",
       "      <td>Électronique</td>\n",
       "      <td>387 10th St, Austin, TX 73301</td>\n",
       "      <td>1</td>\n",
       "      <td>11.99</td>\n",
       "      <td>5.9950</td>\n",
       "      <td>11.99</td>\n",
       "      <td>5.9950</td>\n",
       "    </tr>\n",
       "  </tbody>\n",
       "</table>\n",
       "</div>"
      ],
      "text/plain": [
       "           order_date  order_id                   product    product_id  \\\n",
       "0 2023-01-22 21:25:00    141234                    iPhone  5.638009e+12   \n",
       "1 2023-01-28 14:15:00    141235  Lightning Charging Cable  5.563320e+12   \n",
       "2 2023-01-17 13:33:00    141236          Wired Headphones  2.113973e+12   \n",
       "3 2023-01-05 20:33:00    141237          27in FHD Monitor  3.069157e+12   \n",
       "4 2023-01-25 11:59:00    141238          Wired Headphones  9.692681e+12   \n",
       "\n",
       "       category                       purchase_address  quantity_ordered  \\\n",
       "0     Vêtements        944 Walnut St, Boston, MA 02215                 1   \n",
       "1  Alimentation       185 Maple St, Portland, OR 97035                 1   \n",
       "2     Vêtements  538 Adams St, San Francisco, CA 94016                 2   \n",
       "3        Sports     738 10th St, Los Angeles, CA 90001                 1   \n",
       "4  Électronique          387 10th St, Austin, TX 73301                 1   \n",
       "\n",
       "   price_each  cost_price  turnover    margin  \n",
       "0      700.00    231.0000    700.00  469.0000  \n",
       "1       14.95      7.4750     14.95    7.4750  \n",
       "2       11.99      5.9950     23.98   11.9900  \n",
       "3      149.99     97.4935    149.99   52.4965  \n",
       "4       11.99      5.9950     11.99    5.9950  "
      ]
     },
     "execution_count": 32,
     "metadata": {},
     "output_type": "execute_result"
    }
   ],
   "source": [
    "orders_data = spark.read.parquet('data/orders_data.parquet')\n",
    "orders_data.toPandas().head()"
   ]
  },
  {
   "cell_type": "markdown",
   "id": "e5cb5091",
   "metadata": {},
   "source": [
    "# Solution"
   ]
  },
  {
   "cell_type": "markdown",
   "id": "18e98339-2721-4d61-ae38-d9e0e51b7876",
   "metadata": {},
   "source": [
    "## time_of_day + order_date\n",
    "\n",
    "New column containing (lower bound inclusive, upper bound exclusive): \"morning\" for orders placed 5-12am, \"afternoon\" for orders placed 12-6pm, and \"evening\" for 6-12pm \n",
    "\n",
    "Remove orders placed between 12am and 5am, convert from timestamp to date"
   ]
  },
  {
   "cell_type": "code",
   "execution_count": 33,
   "id": "0dc31c21",
   "metadata": {},
   "outputs": [
    {
     "name": "stdout",
     "output_type": "stream",
     "text": [
      "['evening' 'afternoon' 'morning']\n"
     ]
    },
    {
     "data": {
      "text/html": [
       "<div>\n",
       "<style scoped>\n",
       "    .dataframe tbody tr th:only-of-type {\n",
       "        vertical-align: middle;\n",
       "    }\n",
       "\n",
       "    .dataframe tbody tr th {\n",
       "        vertical-align: top;\n",
       "    }\n",
       "\n",
       "    .dataframe thead th {\n",
       "        text-align: right;\n",
       "    }\n",
       "</style>\n",
       "<table border=\"1\" class=\"dataframe\">\n",
       "  <thead>\n",
       "    <tr style=\"text-align: right;\">\n",
       "      <th></th>\n",
       "      <th>order_date</th>\n",
       "      <th>order_id</th>\n",
       "      <th>product</th>\n",
       "      <th>product_id</th>\n",
       "      <th>category</th>\n",
       "      <th>purchase_address</th>\n",
       "      <th>quantity_ordered</th>\n",
       "      <th>price_each</th>\n",
       "      <th>cost_price</th>\n",
       "      <th>turnover</th>\n",
       "      <th>margin</th>\n",
       "      <th>time_of_day</th>\n",
       "    </tr>\n",
       "  </thead>\n",
       "  <tbody>\n",
       "    <tr>\n",
       "      <th>0</th>\n",
       "      <td>2023-01-22 21:25:00</td>\n",
       "      <td>141234</td>\n",
       "      <td>iPhone</td>\n",
       "      <td>5.638009e+12</td>\n",
       "      <td>Vêtements</td>\n",
       "      <td>944 Walnut St, Boston, MA 02215</td>\n",
       "      <td>1</td>\n",
       "      <td>700.00</td>\n",
       "      <td>231.0000</td>\n",
       "      <td>700.00</td>\n",
       "      <td>469.0000</td>\n",
       "      <td>evening</td>\n",
       "    </tr>\n",
       "    <tr>\n",
       "      <th>1</th>\n",
       "      <td>2023-01-28 14:15:00</td>\n",
       "      <td>141235</td>\n",
       "      <td>Lightning Charging Cable</td>\n",
       "      <td>5.563320e+12</td>\n",
       "      <td>Alimentation</td>\n",
       "      <td>185 Maple St, Portland, OR 97035</td>\n",
       "      <td>1</td>\n",
       "      <td>14.95</td>\n",
       "      <td>7.4750</td>\n",
       "      <td>14.95</td>\n",
       "      <td>7.4750</td>\n",
       "      <td>afternoon</td>\n",
       "    </tr>\n",
       "    <tr>\n",
       "      <th>2</th>\n",
       "      <td>2023-01-17 13:33:00</td>\n",
       "      <td>141236</td>\n",
       "      <td>Wired Headphones</td>\n",
       "      <td>2.113973e+12</td>\n",
       "      <td>Vêtements</td>\n",
       "      <td>538 Adams St, San Francisco, CA 94016</td>\n",
       "      <td>2</td>\n",
       "      <td>11.99</td>\n",
       "      <td>5.9950</td>\n",
       "      <td>23.98</td>\n",
       "      <td>11.9900</td>\n",
       "      <td>afternoon</td>\n",
       "    </tr>\n",
       "    <tr>\n",
       "      <th>3</th>\n",
       "      <td>2023-01-05 20:33:00</td>\n",
       "      <td>141237</td>\n",
       "      <td>27in FHD Monitor</td>\n",
       "      <td>3.069157e+12</td>\n",
       "      <td>Sports</td>\n",
       "      <td>738 10th St, Los Angeles, CA 90001</td>\n",
       "      <td>1</td>\n",
       "      <td>149.99</td>\n",
       "      <td>97.4935</td>\n",
       "      <td>149.99</td>\n",
       "      <td>52.4965</td>\n",
       "      <td>evening</td>\n",
       "    </tr>\n",
       "    <tr>\n",
       "      <th>4</th>\n",
       "      <td>2023-01-25 11:59:00</td>\n",
       "      <td>141238</td>\n",
       "      <td>Wired Headphones</td>\n",
       "      <td>9.692681e+12</td>\n",
       "      <td>Électronique</td>\n",
       "      <td>387 10th St, Austin, TX 73301</td>\n",
       "      <td>1</td>\n",
       "      <td>11.99</td>\n",
       "      <td>5.9950</td>\n",
       "      <td>11.99</td>\n",
       "      <td>5.9950</td>\n",
       "      <td>morning</td>\n",
       "    </tr>\n",
       "  </tbody>\n",
       "</table>\n",
       "</div>"
      ],
      "text/plain": [
       "           order_date  order_id                   product    product_id  \\\n",
       "0 2023-01-22 21:25:00    141234                    iPhone  5.638009e+12   \n",
       "1 2023-01-28 14:15:00    141235  Lightning Charging Cable  5.563320e+12   \n",
       "2 2023-01-17 13:33:00    141236          Wired Headphones  2.113973e+12   \n",
       "3 2023-01-05 20:33:00    141237          27in FHD Monitor  3.069157e+12   \n",
       "4 2023-01-25 11:59:00    141238          Wired Headphones  9.692681e+12   \n",
       "\n",
       "       category                       purchase_address  quantity_ordered  \\\n",
       "0     Vêtements        944 Walnut St, Boston, MA 02215                 1   \n",
       "1  Alimentation       185 Maple St, Portland, OR 97035                 1   \n",
       "2     Vêtements  538 Adams St, San Francisco, CA 94016                 2   \n",
       "3        Sports     738 10th St, Los Angeles, CA 90001                 1   \n",
       "4  Électronique          387 10th St, Austin, TX 73301                 1   \n",
       "\n",
       "   price_each  cost_price  turnover    margin time_of_day  \n",
       "0      700.00    231.0000    700.00  469.0000     evening  \n",
       "1       14.95      7.4750     14.95    7.4750   afternoon  \n",
       "2       11.99      5.9950     23.98   11.9900   afternoon  \n",
       "3      149.99     97.4935    149.99   52.4965     evening  \n",
       "4       11.99      5.9950     11.99    5.9950     morning  "
      ]
     },
     "execution_count": 33,
     "metadata": {},
     "output_type": "execute_result"
    }
   ],
   "source": [
    "# time of day column\n",
    "orders_data = orders_data.withColumn(\"time_of_day\", \n",
    "        F.when( ( F.hour(F.col('order_date')) >= 5) & ( F.hour(F.col('order_date')) < 12), 'morning' ) \\\n",
    "        .when( ( F.hour(F.col('order_date')) >= 12) & ( F.hour(F.col('order_date')) < 18), 'afternoon' ) \\\n",
    "        .when( ( F.hour(F.col('order_date')) >= 18) & ( F.hour(F.col('order_date')) < 24), 'evening' )\n",
    "        .otherwise( None ))\n",
    "# filter out Nones -> made between midnight and 5am\n",
    "orders_data = orders_data.filter(~orders_data['time_of_day'].isNull())\n",
    "orders_data_df = orders_data.toPandas()\n",
    "print(orders_data_df['time_of_day'].unique()) # verify the unique values and removed midnight to 5am"
   ]
  },
  {
   "cell_type": "code",
   "execution_count": 36,
   "id": "5cf2a345-c6b6-411a-aa49-208ddaa6ab0d",
   "metadata": {
    "executionCancelledAt": null,
    "executionTime": 133,
    "lastExecutedAt": 1741801943405,
    "lastExecutedByKernel": "1cd0bff0-5145-4be7-ab7e-91e18d2753b7",
    "lastScheduledRunId": null,
    "lastSuccessfullyExecutedCode": "orders_data = orders_data.filter(~(F.hour(orders_data['order_date'])<5))",
    "outputsMetadata": {
     "0": {
      "height": 50,
      "tableState": {
       "customFilter": {
        "const": {
         "type": "boolean",
         "valid": true,
         "value": true
        },
        "id": "c0849468-eba3-4f2f-8174-c7ffb9e4d1f0",
        "nodeType": "const"
       },
       "quickFilterText": ""
      },
      "type": "dataFrame"
     }
    }
   },
   "outputs": [
    {
     "name": "stdout",
     "output_type": "stream",
     "text": [
      "[('order_date', 'timestamp_ntz'), ('order_id', 'bigint'), ('product', 'string'), ('product_id', 'double'), ('category', 'string'), ('purchase_address', 'string'), ('quantity_ordered', 'bigint'), ('price_each', 'double'), ('cost_price', 'double'), ('turnover', 'double'), ('margin', 'double'), ('time_of_day', 'string')]\n",
      "[('order_date', 'date'), ('order_id', 'bigint'), ('product', 'string'), ('product_id', 'double'), ('category', 'string'), ('purchase_address', 'string'), ('quantity_ordered', 'bigint'), ('price_each', 'double'), ('cost_price', 'double'), ('turnover', 'double'), ('margin', 'double'), ('time_of_day', 'string')]\n"
     ]
    }
   ],
   "source": [
    "print(orders_data.dtypes)\n",
    "orders_data = orders_data.withColumn(\"order_date\", orders_data[\"order_date\"].cast(types.DateType()))\n",
    "print(orders_data.dtypes) # verify the casted column"
   ]
  },
  {
   "cell_type": "markdown",
   "id": "8f3e7e4a-d7a6-4942-96cb-31febaaf7486",
   "metadata": {},
   "source": [
    "## category\n",
    "all values lowercase"
   ]
  },
  {
   "cell_type": "code",
   "execution_count": null,
   "id": "81618c39-8160-4ddc-8180-4652402f139b",
   "metadata": {
    "executionCancelledAt": null,
    "executionTime": 52,
    "lastExecutedAt": 1741801943458,
    "lastExecutedByKernel": "1cd0bff0-5145-4be7-ab7e-91e18d2753b7",
    "lastScheduledRunId": null,
    "lastSuccessfullyExecutedCode": "orders_data = orders_data.withColumn(\"category\", F.lower(orders_data[\"category\"]))",
    "outputsMetadata": {
     "0": {
      "height": 50,
      "tableState": {
       "customFilter": {
        "const": {
         "type": "boolean",
         "valid": true,
         "value": true
        },
        "id": "c0849468-eba3-4f2f-8174-c7ffb9e4d1f0",
        "nodeType": "const"
       },
       "quickFilterText": ""
      },
      "type": "dataFrame"
     }
    }
   },
   "outputs": [],
   "source": [
    "orders_data = orders_data.withColumn(\"category\", F.lower(orders_data[\"category\"])) # lower case the category column"
   ]
  },
  {
   "cell_type": "markdown",
   "id": "e961411a-561c-4b91-abd9-57676bb8977b",
   "metadata": {},
   "source": [
    "## product\n",
    "remove all values containing TV, ensure lowercase"
   ]
  },
  {
   "cell_type": "code",
   "execution_count": null,
   "id": "57e3166f-6764-42e0-a36a-cf5e7fb3ecb8",
   "metadata": {
    "executionCancelledAt": null,
    "executionTime": 51,
    "lastExecutedAt": 1741802198739,
    "lastExecutedByKernel": "89dac5a4-b510-49e5-a174-9dba1ef02c72",
    "lastScheduledRunId": null,
    "lastSuccessfullyExecutedCode": "orders_data = orders_data.withColumn(\"product\", F.lower(orders_data[\"product\"]))\norders_data = orders_data.filter(~orders_data['product'].contains(\"tv\"))",
    "outputsMetadata": {
     "0": {
      "height": 50,
      "tableState": {
       "customFilter": {
        "const": {
         "type": "boolean",
         "valid": true,
         "value": true
        },
        "id": "c0849468-eba3-4f2f-8174-c7ffb9e4d1f0",
        "nodeType": "const"
       }
      },
      "type": "dataFrame"
     }
    }
   },
   "outputs": [],
   "source": [
    "orders_data = orders_data.withColumn(\"product\", F.lower(orders_data[\"product\"])) # lower case the product column\n",
    "orders_data = orders_data.filter(~orders_data['product'].contains(\"tv\")) # filter out rows with 'tv' in the product column"
   ]
  },
  {
   "cell_type": "markdown",
   "id": "4777a8c4-7fcf-4232-8995-15da7993fa62",
   "metadata": {},
   "source": [
    "## purchase_state\n",
    "New column containing: the State that the purchase was ordered from"
   ]
  },
  {
   "cell_type": "code",
   "execution_count": 43,
   "id": "f0c8559e-8d70-4a94-8507-6d41e18f6678",
   "metadata": {
    "executionCancelledAt": null,
    "executionTime": 31,
    "lastExecutedAt": 1741802202706,
    "lastExecutedByKernel": "89dac5a4-b510-49e5-a174-9dba1ef02c72",
    "lastScheduledRunId": null,
    "lastSuccessfullyExecutedCode": "orders_data = orders_data.withColumn(\"purchase_state\", F.substring(F.col(\"purchase_address\"), -8,2))",
    "outputsMetadata": {
     "0": {
      "height": 245,
      "tableState": {
       "customFilter": {
        "const": {
         "type": "boolean",
         "valid": true,
         "value": true
        },
        "id": "c0849468-eba3-4f2f-8174-c7ffb9e4d1f0",
        "nodeType": "const"
       },
       "quickFilterText": ""
      },
      "type": "dataFrame"
     }
    }
   },
   "outputs": [
    {
     "data": {
      "text/plain": [
       "array(['MA', 'OR', 'CA', 'TX', 'WA', 'GA', 'NY', 'ME'], dtype=object)"
      ]
     },
     "execution_count": 43,
     "metadata": {},
     "output_type": "execute_result"
    }
   ],
   "source": [
    "orders_data = orders_data.withColumn(\"purchase_state\", F.substring(F.col(\"purchase_address\"), -8,2))\n",
    "orders_data.toPandas().purchase_state.unique() # verify that only states were extracted"
   ]
  },
  {
   "cell_type": "markdown",
   "id": "68c7ad62",
   "metadata": {},
   "source": [
    "## inspect cleaned up data"
   ]
  },
  {
   "cell_type": "code",
   "execution_count": 10,
   "id": "81d32474",
   "metadata": {},
   "outputs": [
    {
     "data": {
      "text/html": [
       "<div>\n",
       "<style scoped>\n",
       "    .dataframe tbody tr th:only-of-type {\n",
       "        vertical-align: middle;\n",
       "    }\n",
       "\n",
       "    .dataframe tbody tr th {\n",
       "        vertical-align: top;\n",
       "    }\n",
       "\n",
       "    .dataframe thead th {\n",
       "        text-align: right;\n",
       "    }\n",
       "</style>\n",
       "<table border=\"1\" class=\"dataframe\">\n",
       "  <thead>\n",
       "    <tr style=\"text-align: right;\">\n",
       "      <th></th>\n",
       "      <th>order_date</th>\n",
       "      <th>order_id</th>\n",
       "      <th>product</th>\n",
       "      <th>product_id</th>\n",
       "      <th>category</th>\n",
       "      <th>purchase_address</th>\n",
       "      <th>quantity_ordered</th>\n",
       "      <th>price_each</th>\n",
       "      <th>cost_price</th>\n",
       "      <th>turnover</th>\n",
       "      <th>margin</th>\n",
       "      <th>time_of_day</th>\n",
       "      <th>purchase_state</th>\n",
       "    </tr>\n",
       "  </thead>\n",
       "  <tbody>\n",
       "    <tr>\n",
       "      <th>0</th>\n",
       "      <td>2023-01-22</td>\n",
       "      <td>141234</td>\n",
       "      <td>iphone</td>\n",
       "      <td>5.638009e+12</td>\n",
       "      <td>vêtements</td>\n",
       "      <td>944 Walnut St, Boston, MA 02215</td>\n",
       "      <td>1</td>\n",
       "      <td>700.00</td>\n",
       "      <td>231.0000</td>\n",
       "      <td>700.00</td>\n",
       "      <td>469.0000</td>\n",
       "      <td>evening</td>\n",
       "      <td>MA</td>\n",
       "    </tr>\n",
       "    <tr>\n",
       "      <th>1</th>\n",
       "      <td>2023-01-28</td>\n",
       "      <td>141235</td>\n",
       "      <td>lightning charging cable</td>\n",
       "      <td>5.563320e+12</td>\n",
       "      <td>alimentation</td>\n",
       "      <td>185 Maple St, Portland, OR 97035</td>\n",
       "      <td>1</td>\n",
       "      <td>14.95</td>\n",
       "      <td>7.4750</td>\n",
       "      <td>14.95</td>\n",
       "      <td>7.4750</td>\n",
       "      <td>afternoon</td>\n",
       "      <td>OR</td>\n",
       "    </tr>\n",
       "    <tr>\n",
       "      <th>2</th>\n",
       "      <td>2023-01-17</td>\n",
       "      <td>141236</td>\n",
       "      <td>wired headphones</td>\n",
       "      <td>2.113973e+12</td>\n",
       "      <td>vêtements</td>\n",
       "      <td>538 Adams St, San Francisco, CA 94016</td>\n",
       "      <td>2</td>\n",
       "      <td>11.99</td>\n",
       "      <td>5.9950</td>\n",
       "      <td>23.98</td>\n",
       "      <td>11.9900</td>\n",
       "      <td>afternoon</td>\n",
       "      <td>CA</td>\n",
       "    </tr>\n",
       "    <tr>\n",
       "      <th>3</th>\n",
       "      <td>2023-01-05</td>\n",
       "      <td>141237</td>\n",
       "      <td>27in fhd monitor</td>\n",
       "      <td>3.069157e+12</td>\n",
       "      <td>sports</td>\n",
       "      <td>738 10th St, Los Angeles, CA 90001</td>\n",
       "      <td>1</td>\n",
       "      <td>149.99</td>\n",
       "      <td>97.4935</td>\n",
       "      <td>149.99</td>\n",
       "      <td>52.4965</td>\n",
       "      <td>evening</td>\n",
       "      <td>CA</td>\n",
       "    </tr>\n",
       "    <tr>\n",
       "      <th>4</th>\n",
       "      <td>2023-01-25</td>\n",
       "      <td>141238</td>\n",
       "      <td>wired headphones</td>\n",
       "      <td>9.692681e+12</td>\n",
       "      <td>électronique</td>\n",
       "      <td>387 10th St, Austin, TX 73301</td>\n",
       "      <td>1</td>\n",
       "      <td>11.99</td>\n",
       "      <td>5.9950</td>\n",
       "      <td>11.99</td>\n",
       "      <td>5.9950</td>\n",
       "      <td>morning</td>\n",
       "      <td>TX</td>\n",
       "    </tr>\n",
       "  </tbody>\n",
       "</table>\n",
       "</div>"
      ],
      "text/plain": [
       "   order_date  order_id                   product    product_id      category  \\\n",
       "0  2023-01-22    141234                    iphone  5.638009e+12     vêtements   \n",
       "1  2023-01-28    141235  lightning charging cable  5.563320e+12  alimentation   \n",
       "2  2023-01-17    141236          wired headphones  2.113973e+12     vêtements   \n",
       "3  2023-01-05    141237          27in fhd monitor  3.069157e+12        sports   \n",
       "4  2023-01-25    141238          wired headphones  9.692681e+12  électronique   \n",
       "\n",
       "                        purchase_address  quantity_ordered  price_each  \\\n",
       "0        944 Walnut St, Boston, MA 02215                 1      700.00   \n",
       "1       185 Maple St, Portland, OR 97035                 1       14.95   \n",
       "2  538 Adams St, San Francisco, CA 94016                 2       11.99   \n",
       "3     738 10th St, Los Angeles, CA 90001                 1      149.99   \n",
       "4          387 10th St, Austin, TX 73301                 1       11.99   \n",
       "\n",
       "   cost_price  turnover    margin time_of_day purchase_state  \n",
       "0    231.0000    700.00  469.0000     evening             MA  \n",
       "1      7.4750     14.95    7.4750   afternoon             OR  \n",
       "2      5.9950     23.98   11.9900   afternoon             CA  \n",
       "3     97.4935    149.99   52.4965     evening             CA  \n",
       "4      5.9950     11.99    5.9950     morning             TX  "
      ]
     },
     "execution_count": 10,
     "metadata": {},
     "output_type": "execute_result"
    }
   ],
   "source": [
    "orders_data.collect()\n",
    "orders_data.toPandas().head()"
   ]
  },
  {
   "cell_type": "markdown",
   "id": "4364ef4e-63fc-4509-bb9f-67d22d051c8b",
   "metadata": {},
   "source": [
    "## save the updated file as `orders_data_clean.parquet`"
   ]
  },
  {
   "cell_type": "code",
   "execution_count": 44,
   "id": "ae397ef0-7bf1-4f29-8f7b-1954fe184aa6",
   "metadata": {
    "executionCancelledAt": null,
    "executionTime": 2600,
    "lastExecutedAt": 1741802228363,
    "lastExecutedByKernel": "89dac5a4-b510-49e5-a174-9dba1ef02c72",
    "lastScheduledRunId": null,
    "lastSuccessfullyExecutedCode": "orders_data.write.parquet('orders_data_clean.parquet')",
    "outputsMetadata": {
     "0": {
      "height": 38,
      "type": "stream"
     }
    }
   },
   "outputs": [
    {
     "name": "stderr",
     "output_type": "stream",
     "text": [
      "                                                                                \r"
     ]
    }
   ],
   "source": [
    "orders_data.write.parquet('data/orders_data_clean.parquet', mode='overwrite')"
   ]
  },
  {
   "cell_type": "markdown",
   "id": "1283bbbe",
   "metadata": {},
   "source": [
    "# verify it worked"
   ]
  },
  {
   "cell_type": "code",
   "execution_count": 45,
   "id": "f7c6738b",
   "metadata": {},
   "outputs": [
    {
     "data": {
      "text/html": [
       "<div>\n",
       "<style scoped>\n",
       "    .dataframe tbody tr th:only-of-type {\n",
       "        vertical-align: middle;\n",
       "    }\n",
       "\n",
       "    .dataframe tbody tr th {\n",
       "        vertical-align: top;\n",
       "    }\n",
       "\n",
       "    .dataframe thead th {\n",
       "        text-align: right;\n",
       "    }\n",
       "</style>\n",
       "<table border=\"1\" class=\"dataframe\">\n",
       "  <thead>\n",
       "    <tr style=\"text-align: right;\">\n",
       "      <th></th>\n",
       "      <th>order_date</th>\n",
       "      <th>order_id</th>\n",
       "      <th>product</th>\n",
       "      <th>product_id</th>\n",
       "      <th>category</th>\n",
       "      <th>purchase_address</th>\n",
       "      <th>quantity_ordered</th>\n",
       "      <th>price_each</th>\n",
       "      <th>cost_price</th>\n",
       "      <th>turnover</th>\n",
       "      <th>margin</th>\n",
       "      <th>time_of_day</th>\n",
       "      <th>purchase_state</th>\n",
       "    </tr>\n",
       "  </thead>\n",
       "  <tbody>\n",
       "    <tr>\n",
       "      <th>0</th>\n",
       "      <td>2023-01-22</td>\n",
       "      <td>141234</td>\n",
       "      <td>iphone</td>\n",
       "      <td>5.638009e+12</td>\n",
       "      <td>vêtements</td>\n",
       "      <td>944 Walnut St, Boston, MA 02215</td>\n",
       "      <td>1</td>\n",
       "      <td>700.00</td>\n",
       "      <td>231.0000</td>\n",
       "      <td>700.00</td>\n",
       "      <td>469.0000</td>\n",
       "      <td>evening</td>\n",
       "      <td>MA</td>\n",
       "    </tr>\n",
       "    <tr>\n",
       "      <th>1</th>\n",
       "      <td>2023-01-28</td>\n",
       "      <td>141235</td>\n",
       "      <td>lightning charging cable</td>\n",
       "      <td>5.563320e+12</td>\n",
       "      <td>alimentation</td>\n",
       "      <td>185 Maple St, Portland, OR 97035</td>\n",
       "      <td>1</td>\n",
       "      <td>14.95</td>\n",
       "      <td>7.4750</td>\n",
       "      <td>14.95</td>\n",
       "      <td>7.4750</td>\n",
       "      <td>afternoon</td>\n",
       "      <td>OR</td>\n",
       "    </tr>\n",
       "    <tr>\n",
       "      <th>2</th>\n",
       "      <td>2023-01-17</td>\n",
       "      <td>141236</td>\n",
       "      <td>wired headphones</td>\n",
       "      <td>2.113973e+12</td>\n",
       "      <td>vêtements</td>\n",
       "      <td>538 Adams St, San Francisco, CA 94016</td>\n",
       "      <td>2</td>\n",
       "      <td>11.99</td>\n",
       "      <td>5.9950</td>\n",
       "      <td>23.98</td>\n",
       "      <td>11.9900</td>\n",
       "      <td>afternoon</td>\n",
       "      <td>CA</td>\n",
       "    </tr>\n",
       "    <tr>\n",
       "      <th>3</th>\n",
       "      <td>2023-01-05</td>\n",
       "      <td>141237</td>\n",
       "      <td>27in fhd monitor</td>\n",
       "      <td>3.069157e+12</td>\n",
       "      <td>sports</td>\n",
       "      <td>738 10th St, Los Angeles, CA 90001</td>\n",
       "      <td>1</td>\n",
       "      <td>149.99</td>\n",
       "      <td>97.4935</td>\n",
       "      <td>149.99</td>\n",
       "      <td>52.4965</td>\n",
       "      <td>evening</td>\n",
       "      <td>CA</td>\n",
       "    </tr>\n",
       "    <tr>\n",
       "      <th>4</th>\n",
       "      <td>2023-01-25</td>\n",
       "      <td>141238</td>\n",
       "      <td>wired headphones</td>\n",
       "      <td>9.692681e+12</td>\n",
       "      <td>électronique</td>\n",
       "      <td>387 10th St, Austin, TX 73301</td>\n",
       "      <td>1</td>\n",
       "      <td>11.99</td>\n",
       "      <td>5.9950</td>\n",
       "      <td>11.99</td>\n",
       "      <td>5.9950</td>\n",
       "      <td>morning</td>\n",
       "      <td>TX</td>\n",
       "    </tr>\n",
       "  </tbody>\n",
       "</table>\n",
       "</div>"
      ],
      "text/plain": [
       "   order_date  order_id                   product    product_id      category  \\\n",
       "0  2023-01-22    141234                    iphone  5.638009e+12     vêtements   \n",
       "1  2023-01-28    141235  lightning charging cable  5.563320e+12  alimentation   \n",
       "2  2023-01-17    141236          wired headphones  2.113973e+12     vêtements   \n",
       "3  2023-01-05    141237          27in fhd monitor  3.069157e+12        sports   \n",
       "4  2023-01-25    141238          wired headphones  9.692681e+12  électronique   \n",
       "\n",
       "                        purchase_address  quantity_ordered  price_each  \\\n",
       "0        944 Walnut St, Boston, MA 02215                 1      700.00   \n",
       "1       185 Maple St, Portland, OR 97035                 1       14.95   \n",
       "2  538 Adams St, San Francisco, CA 94016                 2       11.99   \n",
       "3     738 10th St, Los Angeles, CA 90001                 1      149.99   \n",
       "4          387 10th St, Austin, TX 73301                 1       11.99   \n",
       "\n",
       "   cost_price  turnover    margin time_of_day purchase_state  \n",
       "0    231.0000    700.00  469.0000     evening             MA  \n",
       "1      7.4750     14.95    7.4750   afternoon             OR  \n",
       "2      5.9950     23.98   11.9900   afternoon             CA  \n",
       "3     97.4935    149.99   52.4965     evening             CA  \n",
       "4      5.9950     11.99    5.9950     morning             TX  "
      ]
     },
     "execution_count": 45,
     "metadata": {},
     "output_type": "execute_result"
    }
   ],
   "source": [
    "orders_data = spark.read.parquet('data/orders_data_clean.parquet')\n",
    "orders_data.toPandas().head()"
   ]
  }
 ],
 "metadata": {
  "colab": {
   "name": "Welcome to DataCamp Workspaces.ipynb",
   "provenance": []
  },
  "editor": "DataLab",
  "kernelspec": {
   "display_name": "dataeng",
   "language": "python",
   "name": "python3"
  },
  "language_info": {
   "codemirror_mode": {
    "name": "ipython",
    "version": 3
   },
   "file_extension": ".py",
   "mimetype": "text/x-python",
   "name": "python",
   "nbconvert_exporter": "python",
   "pygments_lexer": "ipython3",
   "version": "3.12.9"
  }
 },
 "nbformat": 4,
 "nbformat_minor": 5
}
